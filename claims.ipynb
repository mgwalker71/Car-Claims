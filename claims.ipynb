{
  "cells": [
    {
      "cell_type": "markdown",
      "metadata": {
        "id": "view-in-github",
        "colab_type": "text"
      },
      "source": [
        "<a href=\"https://colab.research.google.com/github/mgwalker71/Car-Claims/blob/main/claims.ipynb\" target=\"_parent\"><img src=\"https://colab.research.google.com/assets/colab-badge.svg\" alt=\"Open In Colab\"/></a>"
      ]
    },
    {
      "cell_type": "code",
      "execution_count": null,
      "metadata": {
        "id": "WH4QsLfXWmTF"
      },
      "outputs": [],
      "source": [
        "import sklearn\n",
        "import numpy as np\n",
        "import pandas as pd\n",
        "import matplotlib.pyplot as plt\n",
        "from sklearn.linear_model import LinearRegression\n",
        "from sklearn.model_selection import train_test_split\n",
        "from sklearn.preprocessing import MinMaxScaler\n",
        "import seaborn as sns\n"
      ]
    },
    {
      "cell_type": "markdown",
      "metadata": {
        "id": "j2NBBe40XU5c"
      },
      "source": [
        "#Car insurance claim prediction"
      ]
    },
    {
      "cell_type": "markdown",
      "metadata": {
        "id": "EI3AmeEJ_ail"
      },
      "source": [
        "<img src='https://drive.google.com/uc?id=1nSXbOmZ8wmKKvS_tXWoJMhxovayw6wAj'>"
      ]
    },
    {
      "cell_type": "markdown",
      "source": [
        "#Project Background\n",
        "###Predicting the likelihood of car insurance claims is a crucial task for both insurance companies and policyholders, Accurate predictions allow insurance companies to set premiums at a level that reflects the risk of insuring a particular individual or vehicle, while also helping them to remain profitable by covering the cost of any claims that are made. The aim of this project is to identify the optimal machine learning model for predicting insurance claims, models selected include Logistic Regression, Random Forest, and TensorFlow.\n"
      ],
      "metadata": {
        "id": "14xzAf1iN-yI"
      }
    },
    {
      "cell_type": "markdown",
      "source": [
        "##2. Data Selection\n",
        "### In the absence of readily available company data due to potential data breach issues I have selected a small publicly available dataset from Kaggle - [Car Claim Insurance Dataset](https://www.kaggle.com/datasets/edwinthomas199/car-claim-insurance-dataset)"
      ],
      "metadata": {
        "id": "upUZlqqpTNFS"
      }
    },
    {
      "cell_type": "code",
      "execution_count": null,
      "metadata": {
        "colab": {
          "base_uri": "https://localhost:8080/",
          "height": 236
        },
        "id": "cjYA4QfTWwqr",
        "outputId": "7fc0ef93-692f-41c0-9820-13ad429f7e95"
      },
      "outputs": [
        {
          "output_type": "execute_result",
          "data": {
            "text/plain": [
              "          ID  KIDSDRIV             BIRTH  HOMEKIDS  YOJ  INCOME PARENT1  \\\n",
              "0  100130023         0  05/02/1955 00:00         2   13   26763     Yes   \n",
              "1  100263241         0  05/10/1961 00:00         0    9  156060      No   \n",
              "2  100321982         0  12/11/1959 00:00         1   11    1965     Yes   \n",
              "3  100391818         0  11/10/1961 00:00         1   10   62361      No   \n",
              "4  100549277         0  06/10/1966 00:00         1   10   34192     Yes   \n",
              "\n",
              "   HOME_VAL MSTATUS GENDER  ... TRAVTIME     CAR_USE  BLUEBOOK     CAR_TYPE  \\\n",
              "0    141019      No      F  ...       49     Private     11500          SUV   \n",
              "1    381438     Yes      M  ...       29  Commercial     25230  Panel Truck   \n",
              "2         0      No      F  ...       21     Private     20630      Minivan   \n",
              "3    185738     Yes      F  ...       32     Private     11540          SUV   \n",
              "4         0      No      F  ...       22  Commercial     13670          SUV   \n",
              "\n",
              "   OLDCLAIM CLM_FREQ  CLM_AMT  CLM_FLG  CAR_AGE           URBANICITY  \n",
              "0         0        0        0        0       11  Highly Urban/ Urban  \n",
              "1      8207        1        0        0        9  Highly Urban/ Urban  \n",
              "2         0        0        0        0       11  Highly Urban/ Urban  \n",
              "3      3481        1        0        0        6  Highly Urban/ Urban  \n",
              "4         0        0        0        0        7  Highly Rural/ Rural  \n",
              "\n",
              "[5 rows x 22 columns]"
            ],
            "text/html": [
              "\n",
              "  <div id=\"df-a124d8b1-f76e-4b19-9c43-941c865dcfcb\" class=\"colab-df-container\">\n",
              "    <div>\n",
              "<style scoped>\n",
              "    .dataframe tbody tr th:only-of-type {\n",
              "        vertical-align: middle;\n",
              "    }\n",
              "\n",
              "    .dataframe tbody tr th {\n",
              "        vertical-align: top;\n",
              "    }\n",
              "\n",
              "    .dataframe thead th {\n",
              "        text-align: right;\n",
              "    }\n",
              "</style>\n",
              "<table border=\"1\" class=\"dataframe\">\n",
              "  <thead>\n",
              "    <tr style=\"text-align: right;\">\n",
              "      <th></th>\n",
              "      <th>ID</th>\n",
              "      <th>KIDSDRIV</th>\n",
              "      <th>BIRTH</th>\n",
              "      <th>HOMEKIDS</th>\n",
              "      <th>YOJ</th>\n",
              "      <th>INCOME</th>\n",
              "      <th>PARENT1</th>\n",
              "      <th>HOME_VAL</th>\n",
              "      <th>MSTATUS</th>\n",
              "      <th>GENDER</th>\n",
              "      <th>...</th>\n",
              "      <th>TRAVTIME</th>\n",
              "      <th>CAR_USE</th>\n",
              "      <th>BLUEBOOK</th>\n",
              "      <th>CAR_TYPE</th>\n",
              "      <th>OLDCLAIM</th>\n",
              "      <th>CLM_FREQ</th>\n",
              "      <th>CLM_AMT</th>\n",
              "      <th>CLM_FLG</th>\n",
              "      <th>CAR_AGE</th>\n",
              "      <th>URBANICITY</th>\n",
              "    </tr>\n",
              "  </thead>\n",
              "  <tbody>\n",
              "    <tr>\n",
              "      <th>0</th>\n",
              "      <td>100130023</td>\n",
              "      <td>0</td>\n",
              "      <td>05/02/1955 00:00</td>\n",
              "      <td>2</td>\n",
              "      <td>13</td>\n",
              "      <td>26763</td>\n",
              "      <td>Yes</td>\n",
              "      <td>141019</td>\n",
              "      <td>No</td>\n",
              "      <td>F</td>\n",
              "      <td>...</td>\n",
              "      <td>49</td>\n",
              "      <td>Private</td>\n",
              "      <td>11500</td>\n",
              "      <td>SUV</td>\n",
              "      <td>0</td>\n",
              "      <td>0</td>\n",
              "      <td>0</td>\n",
              "      <td>0</td>\n",
              "      <td>11</td>\n",
              "      <td>Highly Urban/ Urban</td>\n",
              "    </tr>\n",
              "    <tr>\n",
              "      <th>1</th>\n",
              "      <td>100263241</td>\n",
              "      <td>0</td>\n",
              "      <td>05/10/1961 00:00</td>\n",
              "      <td>0</td>\n",
              "      <td>9</td>\n",
              "      <td>156060</td>\n",
              "      <td>No</td>\n",
              "      <td>381438</td>\n",
              "      <td>Yes</td>\n",
              "      <td>M</td>\n",
              "      <td>...</td>\n",
              "      <td>29</td>\n",
              "      <td>Commercial</td>\n",
              "      <td>25230</td>\n",
              "      <td>Panel Truck</td>\n",
              "      <td>8207</td>\n",
              "      <td>1</td>\n",
              "      <td>0</td>\n",
              "      <td>0</td>\n",
              "      <td>9</td>\n",
              "      <td>Highly Urban/ Urban</td>\n",
              "    </tr>\n",
              "    <tr>\n",
              "      <th>2</th>\n",
              "      <td>100321982</td>\n",
              "      <td>0</td>\n",
              "      <td>12/11/1959 00:00</td>\n",
              "      <td>1</td>\n",
              "      <td>11</td>\n",
              "      <td>1965</td>\n",
              "      <td>Yes</td>\n",
              "      <td>0</td>\n",
              "      <td>No</td>\n",
              "      <td>F</td>\n",
              "      <td>...</td>\n",
              "      <td>21</td>\n",
              "      <td>Private</td>\n",
              "      <td>20630</td>\n",
              "      <td>Minivan</td>\n",
              "      <td>0</td>\n",
              "      <td>0</td>\n",
              "      <td>0</td>\n",
              "      <td>0</td>\n",
              "      <td>11</td>\n",
              "      <td>Highly Urban/ Urban</td>\n",
              "    </tr>\n",
              "    <tr>\n",
              "      <th>3</th>\n",
              "      <td>100391818</td>\n",
              "      <td>0</td>\n",
              "      <td>11/10/1961 00:00</td>\n",
              "      <td>1</td>\n",
              "      <td>10</td>\n",
              "      <td>62361</td>\n",
              "      <td>No</td>\n",
              "      <td>185738</td>\n",
              "      <td>Yes</td>\n",
              "      <td>F</td>\n",
              "      <td>...</td>\n",
              "      <td>32</td>\n",
              "      <td>Private</td>\n",
              "      <td>11540</td>\n",
              "      <td>SUV</td>\n",
              "      <td>3481</td>\n",
              "      <td>1</td>\n",
              "      <td>0</td>\n",
              "      <td>0</td>\n",
              "      <td>6</td>\n",
              "      <td>Highly Urban/ Urban</td>\n",
              "    </tr>\n",
              "    <tr>\n",
              "      <th>4</th>\n",
              "      <td>100549277</td>\n",
              "      <td>0</td>\n",
              "      <td>06/10/1966 00:00</td>\n",
              "      <td>1</td>\n",
              "      <td>10</td>\n",
              "      <td>34192</td>\n",
              "      <td>Yes</td>\n",
              "      <td>0</td>\n",
              "      <td>No</td>\n",
              "      <td>F</td>\n",
              "      <td>...</td>\n",
              "      <td>22</td>\n",
              "      <td>Commercial</td>\n",
              "      <td>13670</td>\n",
              "      <td>SUV</td>\n",
              "      <td>0</td>\n",
              "      <td>0</td>\n",
              "      <td>0</td>\n",
              "      <td>0</td>\n",
              "      <td>7</td>\n",
              "      <td>Highly Rural/ Rural</td>\n",
              "    </tr>\n",
              "  </tbody>\n",
              "</table>\n",
              "<p>5 rows × 22 columns</p>\n",
              "</div>\n",
              "    <div class=\"colab-df-buttons\">\n",
              "\n",
              "  <div class=\"colab-df-container\">\n",
              "    <button class=\"colab-df-convert\" onclick=\"convertToInteractive('df-a124d8b1-f76e-4b19-9c43-941c865dcfcb')\"\n",
              "            title=\"Convert this dataframe to an interactive table.\"\n",
              "            style=\"display:none;\">\n",
              "\n",
              "  <svg xmlns=\"http://www.w3.org/2000/svg\" height=\"24px\" viewBox=\"0 -960 960 960\">\n",
              "    <path d=\"M120-120v-720h720v720H120Zm60-500h600v-160H180v160Zm220 220h160v-160H400v160Zm0 220h160v-160H400v160ZM180-400h160v-160H180v160Zm440 0h160v-160H620v160ZM180-180h160v-160H180v160Zm440 0h160v-160H620v160Z\"/>\n",
              "  </svg>\n",
              "    </button>\n",
              "\n",
              "  <style>\n",
              "    .colab-df-container {\n",
              "      display:flex;\n",
              "      gap: 12px;\n",
              "    }\n",
              "\n",
              "    .colab-df-convert {\n",
              "      background-color: #E8F0FE;\n",
              "      border: none;\n",
              "      border-radius: 50%;\n",
              "      cursor: pointer;\n",
              "      display: none;\n",
              "      fill: #1967D2;\n",
              "      height: 32px;\n",
              "      padding: 0 0 0 0;\n",
              "      width: 32px;\n",
              "    }\n",
              "\n",
              "    .colab-df-convert:hover {\n",
              "      background-color: #E2EBFA;\n",
              "      box-shadow: 0px 1px 2px rgba(60, 64, 67, 0.3), 0px 1px 3px 1px rgba(60, 64, 67, 0.15);\n",
              "      fill: #174EA6;\n",
              "    }\n",
              "\n",
              "    .colab-df-buttons div {\n",
              "      margin-bottom: 4px;\n",
              "    }\n",
              "\n",
              "    [theme=dark] .colab-df-convert {\n",
              "      background-color: #3B4455;\n",
              "      fill: #D2E3FC;\n",
              "    }\n",
              "\n",
              "    [theme=dark] .colab-df-convert:hover {\n",
              "      background-color: #434B5C;\n",
              "      box-shadow: 0px 1px 3px 1px rgba(0, 0, 0, 0.15);\n",
              "      filter: drop-shadow(0px 1px 2px rgba(0, 0, 0, 0.3));\n",
              "      fill: #FFFFFF;\n",
              "    }\n",
              "  </style>\n",
              "\n",
              "    <script>\n",
              "      const buttonEl =\n",
              "        document.querySelector('#df-a124d8b1-f76e-4b19-9c43-941c865dcfcb button.colab-df-convert');\n",
              "      buttonEl.style.display =\n",
              "        google.colab.kernel.accessAllowed ? 'block' : 'none';\n",
              "\n",
              "      async function convertToInteractive(key) {\n",
              "        const element = document.querySelector('#df-a124d8b1-f76e-4b19-9c43-941c865dcfcb');\n",
              "        const dataTable =\n",
              "          await google.colab.kernel.invokeFunction('convertToInteractive',\n",
              "                                                    [key], {});\n",
              "        if (!dataTable) return;\n",
              "\n",
              "        const docLinkHtml = 'Like what you see? Visit the ' +\n",
              "          '<a target=\"_blank\" href=https://colab.research.google.com/notebooks/data_table.ipynb>data table notebook</a>'\n",
              "          + ' to learn more about interactive tables.';\n",
              "        element.innerHTML = '';\n",
              "        dataTable['output_type'] = 'display_data';\n",
              "        await google.colab.output.renderOutput(dataTable, element);\n",
              "        const docLink = document.createElement('div');\n",
              "        docLink.innerHTML = docLinkHtml;\n",
              "        element.appendChild(docLink);\n",
              "      }\n",
              "    </script>\n",
              "  </div>\n",
              "\n",
              "\n",
              "<div id=\"df-6839026e-f020-43d2-8567-b4a678f73efe\">\n",
              "  <button class=\"colab-df-quickchart\" onclick=\"quickchart('df-6839026e-f020-43d2-8567-b4a678f73efe')\"\n",
              "            title=\"Suggest charts\"\n",
              "            style=\"display:none;\">\n",
              "\n",
              "<svg xmlns=\"http://www.w3.org/2000/svg\" height=\"24px\"viewBox=\"0 0 24 24\"\n",
              "     width=\"24px\">\n",
              "    <g>\n",
              "        <path d=\"M19 3H5c-1.1 0-2 .9-2 2v14c0 1.1.9 2 2 2h14c1.1 0 2-.9 2-2V5c0-1.1-.9-2-2-2zM9 17H7v-7h2v7zm4 0h-2V7h2v10zm4 0h-2v-4h2v4z\"/>\n",
              "    </g>\n",
              "</svg>\n",
              "  </button>\n",
              "\n",
              "<style>\n",
              "  .colab-df-quickchart {\n",
              "      --bg-color: #E8F0FE;\n",
              "      --fill-color: #1967D2;\n",
              "      --hover-bg-color: #E2EBFA;\n",
              "      --hover-fill-color: #174EA6;\n",
              "      --disabled-fill-color: #AAA;\n",
              "      --disabled-bg-color: #DDD;\n",
              "  }\n",
              "\n",
              "  [theme=dark] .colab-df-quickchart {\n",
              "      --bg-color: #3B4455;\n",
              "      --fill-color: #D2E3FC;\n",
              "      --hover-bg-color: #434B5C;\n",
              "      --hover-fill-color: #FFFFFF;\n",
              "      --disabled-bg-color: #3B4455;\n",
              "      --disabled-fill-color: #666;\n",
              "  }\n",
              "\n",
              "  .colab-df-quickchart {\n",
              "    background-color: var(--bg-color);\n",
              "    border: none;\n",
              "    border-radius: 50%;\n",
              "    cursor: pointer;\n",
              "    display: none;\n",
              "    fill: var(--fill-color);\n",
              "    height: 32px;\n",
              "    padding: 0;\n",
              "    width: 32px;\n",
              "  }\n",
              "\n",
              "  .colab-df-quickchart:hover {\n",
              "    background-color: var(--hover-bg-color);\n",
              "    box-shadow: 0 1px 2px rgba(60, 64, 67, 0.3), 0 1px 3px 1px rgba(60, 64, 67, 0.15);\n",
              "    fill: var(--button-hover-fill-color);\n",
              "  }\n",
              "\n",
              "  .colab-df-quickchart-complete:disabled,\n",
              "  .colab-df-quickchart-complete:disabled:hover {\n",
              "    background-color: var(--disabled-bg-color);\n",
              "    fill: var(--disabled-fill-color);\n",
              "    box-shadow: none;\n",
              "  }\n",
              "\n",
              "  .colab-df-spinner {\n",
              "    border: 2px solid var(--fill-color);\n",
              "    border-color: transparent;\n",
              "    border-bottom-color: var(--fill-color);\n",
              "    animation:\n",
              "      spin 1s steps(1) infinite;\n",
              "  }\n",
              "\n",
              "  @keyframes spin {\n",
              "    0% {\n",
              "      border-color: transparent;\n",
              "      border-bottom-color: var(--fill-color);\n",
              "      border-left-color: var(--fill-color);\n",
              "    }\n",
              "    20% {\n",
              "      border-color: transparent;\n",
              "      border-left-color: var(--fill-color);\n",
              "      border-top-color: var(--fill-color);\n",
              "    }\n",
              "    30% {\n",
              "      border-color: transparent;\n",
              "      border-left-color: var(--fill-color);\n",
              "      border-top-color: var(--fill-color);\n",
              "      border-right-color: var(--fill-color);\n",
              "    }\n",
              "    40% {\n",
              "      border-color: transparent;\n",
              "      border-right-color: var(--fill-color);\n",
              "      border-top-color: var(--fill-color);\n",
              "    }\n",
              "    60% {\n",
              "      border-color: transparent;\n",
              "      border-right-color: var(--fill-color);\n",
              "    }\n",
              "    80% {\n",
              "      border-color: transparent;\n",
              "      border-right-color: var(--fill-color);\n",
              "      border-bottom-color: var(--fill-color);\n",
              "    }\n",
              "    90% {\n",
              "      border-color: transparent;\n",
              "      border-bottom-color: var(--fill-color);\n",
              "    }\n",
              "  }\n",
              "</style>\n",
              "\n",
              "  <script>\n",
              "    async function quickchart(key) {\n",
              "      const quickchartButtonEl =\n",
              "        document.querySelector('#' + key + ' button');\n",
              "      quickchartButtonEl.disabled = true;  // To prevent multiple clicks.\n",
              "      quickchartButtonEl.classList.add('colab-df-spinner');\n",
              "      try {\n",
              "        const charts = await google.colab.kernel.invokeFunction(\n",
              "            'suggestCharts', [key], {});\n",
              "      } catch (error) {\n",
              "        console.error('Error during call to suggestCharts:', error);\n",
              "      }\n",
              "      quickchartButtonEl.classList.remove('colab-df-spinner');\n",
              "      quickchartButtonEl.classList.add('colab-df-quickchart-complete');\n",
              "    }\n",
              "    (() => {\n",
              "      let quickchartButtonEl =\n",
              "        document.querySelector('#df-6839026e-f020-43d2-8567-b4a678f73efe button');\n",
              "      quickchartButtonEl.style.display =\n",
              "        google.colab.kernel.accessAllowed ? 'block' : 'none';\n",
              "    })();\n",
              "  </script>\n",
              "</div>\n",
              "    </div>\n",
              "  </div>\n"
            ]
          },
          "metadata": {},
          "execution_count": 15
        }
      ],
      "source": [
        "df = pd.read_csv('/Carclaimsforinsurance.csv')\n",
        "df.head()\n"
      ]
    },
    {
      "cell_type": "markdown",
      "source": [
        "<img src= '\\crash.jpg'>"
      ],
      "metadata": {
        "id": "1EuB2IWeNmk9"
      }
    },
    {
      "cell_type": "markdown",
      "source": [
        "##Data Features\n",
        "####ID - Identification Variable\n",
        "####KIDSDRIV - Number of teenagers among the car owner's children who drive a car\n",
        "####BIRTH - Date of birth of the driver\n",
        "####HOMEKIDS - No of childern the car owner has\n",
        "####YOJ - Years on Job. How many years has the owner of the car been working?\n",
        "####INCOME - Income of the driver\n",
        "####PARENT1 - Is the car owner a Single Parent\n",
        "####HOME_VAL - Value of the house owned by the car owner\n",
        "####MSTATUS - Marital status of the car owner\n",
        "####GENDER - Gender of the driver\n",
        "####EDUCATION - Maximum Education level of the driver\n",
        "####OCCUPATION - Occupation of the driver\n",
        "####TRAVTIME - Time taken to get to work on an average\n",
        "####CAR_USE - Purpose of using the car\n",
        "####BLUEBOOK - What is the worth of the car. Value of the Vehicle(in dollars)\n",
        "####CAR_TYPE - Car type\n",
        "####OLDCLAIM - Total claim (in past 5 years - in dollars)\n",
        "####CLM_FREQ - Number of claims (in past 5 years)\n",
        "####CLM_AMT - If car was in a crash, what is the currently claimed amount($)\n",
        "####CAR_AGE - Age of car\n",
        "####URBANICITY - Where the car is being driven primarily"
      ],
      "metadata": {
        "id": "lBWRkgLqt86b"
      }
    },
    {
      "cell_type": "code",
      "execution_count": null,
      "metadata": {
        "id": "frSVrdGDb_8l"
      },
      "outputs": [],
      "source": [
        "y=df[\"CLM_FLG\"]"
      ]
    },
    {
      "cell_type": "code",
      "source": [
        "df1 = df"
      ],
      "metadata": {
        "id": "Zw7P8-nbh032"
      },
      "execution_count": null,
      "outputs": []
    },
    {
      "cell_type": "code",
      "execution_count": null,
      "metadata": {
        "id": "U1LtscBS_aim"
      },
      "outputs": [],
      "source": [
        "df= df.drop([\"CLM_FLG\"],axis =1)\n",
        "df= df.drop([\"CLM_AMT\"],axis =1)\n",
        "df= df.drop([\"BIRTH\"],axis =1)\n",
        "df= df.drop([\"ID\"],axis =1)"
      ]
    },
    {
      "cell_type": "markdown",
      "source": [
        "##Data Quality\n",
        "### A data quality audit was carried out in order to check for any missing values which could impact on model performance."
      ],
      "metadata": {
        "id": "wooTOApAW8Rf"
      }
    },
    {
      "cell_type": "code",
      "execution_count": null,
      "metadata": {
        "colab": {
          "base_uri": "https://localhost:8080/"
        },
        "id": "Evfg0KQ3_aim",
        "outputId": "b9bf8aee-007f-4b67-a9cb-001df31f2d7b"
      },
      "outputs": [
        {
          "output_type": "execute_result",
          "data": {
            "text/plain": [
              "KIDSDRIV      0\n",
              "HOMEKIDS      0\n",
              "YOJ           0\n",
              "INCOME        0\n",
              "PARENT1       0\n",
              "HOME_VAL      0\n",
              "MSTATUS       0\n",
              "GENDER        0\n",
              "EDUCATION     0\n",
              "OCCUPATION    0\n",
              "TRAVTIME      0\n",
              "CAR_USE       0\n",
              "BLUEBOOK      0\n",
              "CAR_TYPE      0\n",
              "OLDCLAIM      0\n",
              "CLM_FREQ      0\n",
              "CAR_AGE       0\n",
              "URBANICITY    0\n",
              "dtype: int64"
            ]
          },
          "metadata": {},
          "execution_count": 19
        }
      ],
      "source": [
        "df.isnull().sum() # check for missing data\n"
      ]
    },
    {
      "cell_type": "markdown",
      "source": [],
      "metadata": {
        "id": "Zdb1UB81W6JD"
      }
    },
    {
      "cell_type": "code",
      "execution_count": null,
      "metadata": {
        "id": "vueJssaC_ain",
        "outputId": "648f88a5-8747-4aa5-8fbb-3d514e7d21ca"
      },
      "outputs": [
        {
          "name": "stderr",
          "output_type": "stream",
          "text": [
            "C:\\Users\\mgw19\\AppData\\Local\\Temp\\ipykernel_11092\\1257915875.py:1: FutureWarning: The default value of numeric_only in DataFrame.corr is deprecated. In a future version, it will default to False. Select only valid columns or specify the value of numeric_only to silence this warning.\n",
            "  sns.heatmap(df.corr()) #\n"
          ]
        },
        {
          "data": {
            "text/plain": [
              "<Axes: >"
            ]
          },
          "execution_count": 6,
          "metadata": {},
          "output_type": "execute_result"
        },
        {
          "data": {
            "image/png": "[encoded data removed]",
            "text/plain": [
              "<Figure size 640x480 with 2 Axes>"
            ]
          },
          "metadata": {},
          "output_type": "display_data"
        }
      ],
      "source": [
        "sns.heatmap(df.corr()) #"
      ]
    },
    {
      "cell_type": "markdown",
      "metadata": {
        "id": "Dn6Dq0Ag_ain"
      },
      "source": [
        "A heatmap was plotted in order to check for any multicolinearity issues which could adversely affect the model performance. There appears to be high correlation between homeval and income.\n"
      ]
    },
    {
      "cell_type": "code",
      "execution_count": null,
      "metadata": {
        "id": "v2E-wD-S_ain"
      },
      "outputs": [],
      "source": [
        "from sklearn.preprocessing import minmax_scale # Normalise the numerical columns\n",
        "cols = df.select_dtypes(np.number).columns\n",
        "df[cols] = minmax_scale(df[cols])"
      ]
    },
    {
      "cell_type": "markdown",
      "source": [
        "One hot encoding was utilised for the categorical variables to improve model performance"
      ],
      "metadata": {
        "id": "_vravbETYJvB"
      }
    },
    {
      "cell_type": "code",
      "execution_count": null,
      "metadata": {
        "colab": {
          "base_uri": "https://localhost:8080/",
          "height": 735
        },
        "id": "JHj5hN7s_ain",
        "outputId": "30cbc7bd-3a15-495b-8684-9f3f0308b67d"
      },
      "outputs": [
        {
          "output_type": "stream",
          "name": "stderr",
          "text": [
            "/usr/local/lib/python3.10/dist-packages/sklearn/preprocessing/_encoders.py:868: FutureWarning: `sparse` was renamed to `sparse_output` in version 1.2 and will be removed in 1.4. `sparse_output` is ignored unless you leave `sparse` to its default value.\n",
            "  warnings.warn(\n"
          ]
        },
        {
          "output_type": "display_data",
          "data": {
            "text/plain": [
              "<Axes: ylabel='Frequency'>"
            ]
          },
          "metadata": {}
        },
        {
          "output_type": "display_data",
          "data": {
            "text/plain": [
              "<Figure size 640x480 with 1 Axes>"
            ],
            "image/png": "[encoded data removed]"
          },
          "metadata": {}
        }
      ],
      "source": [
        "\n",
        "\n",
        "\n",
        "    \"\"\"Generate onehoteencoded features for all categorical columns in df\"\"\"\n",
        "\n",
        "    from sklearn.preprocessing import OneHotEncoder\n",
        "    model_oh = OneHotEncoder(handle_unknown=\"ignore\", sparse=False)\n",
        "\n",
        "    matrix = model_oh.fit_transform(df[[\"MSTATUS\",\"CAR_USE\",\"CAR_TYPE\",\"URBANICITY\",\"EDUCATION\",\"OCCUPATION\",\"PARENT1\",\"GENDER\"]])  # get a matrix of new features and values\n",
        "    names = model_oh.get_feature_names_out()  # get names for these features\n",
        "    df_oh = pd.DataFrame(data=matrix, columns=names, index=df.index)  # create df of these new features\n",
        "    display(df_oh.plot.hist())\n",
        "    df = pd.concat([df, df_oh], axis=1)  # concat with existing df\n",
        "    df = df.drop([\"MSTATUS\"],axis =1)\n",
        "    df = df.drop([\"CAR_USE\"],axis =1)\n",
        "    df = df.drop([\"CAR_TYPE\"],axis =1)\n",
        "    df = df.drop([\"URBANICITY\"],axis =1)\n",
        "    df = df.drop([\"EDUCATION\"],axis =1)\n",
        "    df = df.drop([\"OCCUPATION\"],axis =1)\n",
        "    df = df.drop([\"PARENT1\"],axis =1)\n",
        "    df = df.drop([\"GENDER\"],axis =1)\n"
      ]
    },
    {
      "cell_type": "code",
      "execution_count": null,
      "metadata": {
        "id": "h1qIP0V3uwXy"
      },
      "outputs": [],
      "source": [
        "X=df\n"
      ]
    },
    {
      "cell_type": "code",
      "execution_count": null,
      "metadata": {
        "colab": {
          "base_uri": "https://localhost:8080/"
        },
        "id": "lAh1gBSPdpgQ",
        "outputId": "1e466b94-6416-4774-db7a-3aed346fdeda"
      },
      "outputs": [
        {
          "output_type": "stream",
          "name": "stdout",
          "text": [
            "Number of training instances: 5735\n",
            "Number of test instances: 1912\n",
            "(5735, 39)\n",
            "(1912, 39)\n"
          ]
        }
      ],
      "source": [
        "from sklearn.model_selection import train_test_split\n",
        "X_train, X_test, y_train, y_test = train_test_split(X, y, test_size=0.25,\n",
        "                                                    random_state=0, shuffle=True) #\n",
        "print('Number of training instances:', len(X_train))\n",
        "print('Number of test instances:', len(y_test))\n",
        "print(X_train.shape)\n",
        "print(X_test.shape)"
      ]
    },
    {
      "cell_type": "code",
      "execution_count": null,
      "metadata": {
        "colab": {
          "base_uri": "https://localhost:8080/",
          "height": 833
        },
        "id": "TycI8PJ2_aio",
        "outputId": "092ecc03-37c9-4deb-c0f7-f594b9e54225"
      },
      "outputs": [
        {
          "output_type": "stream",
          "name": "stdout",
          "text": [
            "<class 'pandas.core.frame.DataFrame'>\n",
            "RangeIndex: 7647 entries, 0 to 7646\n",
            "Data columns (total 39 columns):\n",
            " #   Column                          Non-Null Count  Dtype  \n",
            "---  ------                          --------------  -----  \n",
            " 0   KIDSDRIV                        7647 non-null   float64\n",
            " 1   HOMEKIDS                        7647 non-null   float64\n",
            " 2   YOJ                             7647 non-null   float64\n",
            " 3   INCOME                          7647 non-null   float64\n",
            " 4   HOME_VAL                        7647 non-null   float64\n",
            " 5   TRAVTIME                        7647 non-null   float64\n",
            " 6   BLUEBOOK                        7647 non-null   float64\n",
            " 7   OLDCLAIM                        7647 non-null   float64\n",
            " 8   CLM_FREQ                        7647 non-null   float64\n",
            " 9   CAR_AGE                         7647 non-null   float64\n",
            " 10  MSTATUS_No                      7647 non-null   float64\n",
            " 11  MSTATUS_Yes                     7647 non-null   float64\n",
            " 12  CAR_USE_Commercial              7647 non-null   float64\n",
            " 13  CAR_USE_Private                 7647 non-null   float64\n",
            " 14  CAR_TYPE_Minivan                7647 non-null   float64\n",
            " 15  CAR_TYPE_Panel Truck            7647 non-null   float64\n",
            " 16  CAR_TYPE_Pickup                 7647 non-null   float64\n",
            " 17  CAR_TYPE_SUV                    7647 non-null   float64\n",
            " 18  CAR_TYPE_Sports Car             7647 non-null   float64\n",
            " 19  CAR_TYPE_Van                    7647 non-null   float64\n",
            " 20  URBANICITY_Highly Rural/ Rural  7647 non-null   float64\n",
            " 21  URBANICITY_Highly Urban/ Urban  7647 non-null   float64\n",
            " 22  EDUCATION_Bachelors             7647 non-null   float64\n",
            " 23  EDUCATION_Below High School     7647 non-null   float64\n",
            " 24  EDUCATION_High School           7647 non-null   float64\n",
            " 25  EDUCATION_Masters               7647 non-null   float64\n",
            " 26  EDUCATION_PhD                   7647 non-null   float64\n",
            " 27  OCCUPATION_Blue Collar          7647 non-null   float64\n",
            " 28  OCCUPATION_Clerical             7647 non-null   float64\n",
            " 29  OCCUPATION_Doctor               7647 non-null   float64\n",
            " 30  OCCUPATION_Home Maker           7647 non-null   float64\n",
            " 31  OCCUPATION_Lawyer               7647 non-null   float64\n",
            " 32  OCCUPATION_Manager              7647 non-null   float64\n",
            " 33  OCCUPATION_Professional         7647 non-null   float64\n",
            " 34  OCCUPATION_Student              7647 non-null   float64\n",
            " 35  PARENT1_No                      7647 non-null   float64\n",
            " 36  PARENT1_Yes                     7647 non-null   float64\n",
            " 37  GENDER_F                        7647 non-null   float64\n",
            " 38  GENDER_M                        7647 non-null   float64\n",
            "dtypes: float64(39)\n",
            "memory usage: 2.3 MB\n"
          ]
        },
        {
          "output_type": "display_data",
          "data": {
            "text/plain": [
              "None"
            ]
          },
          "metadata": {}
        }
      ],
      "source": [
        "display(df.info())\n"
      ]
    },
    {
      "cell_type": "markdown",
      "source": [
        " A frequency plot of the dependent variable indicates that the data is imbalanced which may impair model performance. SMOTE (Synthetic Minority Over-sampling) can be employed to rebalance the minority class by generating synthetic samples. This can also reduce overfitting issues."
      ],
      "metadata": {
        "id": "-CaOAecsiVPu"
      }
    },
    {
      "cell_type": "code",
      "source": [
        "# use a different colour palette in count plot\n",
        "sns.countplot(x ='CLM_FLG', data = df1, palette = \"Set2\")\n",
        "\n",
        "# Show the plot\n",
        "plt.show()"
      ],
      "metadata": {
        "colab": {
          "base_uri": "https://localhost:8080/",
          "height": 449
        },
        "id": "Oc2c7Z9YYzdw",
        "outputId": "41f9619f-f9c4-4951-bd2b-271462abe61b"
      },
      "execution_count": null,
      "outputs": [
        {
          "output_type": "display_data",
          "data": {
            "text/plain": [
              "<Figure size 640x480 with 1 Axes>"
            ],
            "image/png": "[encoded data removed]"
          },
          "metadata": {}
        }
      ]
    },
    {
      "cell_type": "code",
      "source": [
        "from imblearn.over_sampling import SMOTE\n",
        "\n",
        "# Apply SMOTE\n",
        "sm = SMOTE(random_state=42)\n",
        "X_train_resampled, y_train_resampled = sm.fit_resample(X_train, y_train)\n",
        "\n",
        "# Print frequency after SMOTE\n",
        "print(\"Class frequencies after SMOTE in training data:\\n\", y_train_resampled.value_counts())"
      ],
      "metadata": {
        "colab": {
          "base_uri": "https://localhost:8080/"
        },
        "id": "wZ_539acg_-0",
        "outputId": "4fef7b86-0138-4f8a-8779-879de12db0f5"
      },
      "execution_count": null,
      "outputs": [
        {
          "output_type": "stream",
          "name": "stdout",
          "text": [
            "Class frequencies after SMOTE in training data:\n",
            " 0    4206\n",
            "1    4206\n",
            "Name: CLM_FLG, dtype: int64\n"
          ]
        }
      ]
    },
    {
      "cell_type": "markdown",
      "source": [],
      "metadata": {
        "id": "Ol5ZTZJJi9HU"
      }
    },
    {
      "cell_type": "code",
      "source": [
        "X_train = X_train_resampled\n",
        "y_train = y_train_resampled\n"
      ],
      "metadata": {
        "id": "pclnDrytjaeX"
      },
      "execution_count": null,
      "outputs": []
    },
    {
      "cell_type": "markdown",
      "source": [
        "\n",
        "###Logistic regression model"
      ],
      "metadata": {
        "id": "nxHX1-fSj-wf"
      }
    },
    {
      "cell_type": "markdown",
      "source": [],
      "metadata": {
        "id": "FW7CBvU-qSZa"
      }
    },
    {
      "cell_type": "code",
      "source": [
        "from sklearn.metrics import accuracy_score\n",
        "\n",
        "from sklearn.metrics import confusion_matrix"
      ],
      "metadata": {
        "id": "HplaQN63kueV"
      },
      "execution_count": null,
      "outputs": []
    },
    {
      "cell_type": "code",
      "execution_count": null,
      "metadata": {
        "id": "a70ccd9f",
        "outputId": "700a5152-26c4-4d4c-f703-5ee43e8b36c0",
        "colab": {
          "base_uri": "https://localhost:8080/"
        }
      },
      "outputs": [
        {
          "output_type": "stream",
          "name": "stdout",
          "text": [
            "Logistic Regression Confusion Matrix:\n",
            "\n",
            "\n",
            "+-----------------+------------------+\n",
            "| Actual\\Predicted| Positive (1)     | Negative (0)     |\n",
            "+-----------------+------------------+\n",
            "| Positive (1)    | True Positives:  405 | False Negatives: 124 |\n",
            "+-----------------+------------------+\n",
            "| Negative (0)    | False Positives: 394 | True Negatives:  989 |\n",
            "+-----------------+------------------+\n",
            "\n",
            "0.7501188777936282\n",
            "Mean Absolute Error: 0.2709205020920502\n",
            "Mean Squared Error: 0.2709205020920502\n",
            "Root Mean Squared Error: 0.5205002421632964\n"
          ]
        }
      ],
      "source": [
        "from sklearn.linear_model import LogisticRegression\n",
        "\n",
        "# Initialize and train the logistic regression model\n",
        "logreg = LogisticRegression(max_iter=1000, random_state=42)  # Increase max_iter if convergence issues arise\n",
        "logreg.fit(X_train, y_train)\n",
        "model = logreg\n",
        "\n",
        "# Model prediction\n",
        "\n",
        "y_logreg_pred = logreg.predict(X_test)\n",
        "\n",
        "# Generate confusion matrix for logistic regression predictions\n",
        "cm_logreg = confusion_matrix(y_test, y_logreg_pred)\n",
        "\n",
        "# Extracting the values\n",
        "TN_logreg, FP_logreg, FN_logreg, TP_logreg = cm_logreg.ravel()\n",
        "\n",
        "# Display the results in a table format for Logistic Regression\n",
        "table_logreg = f\"\"\"\n",
        "+-----------------+------------------+\n",
        "| Actual\\Predicted| Positive (1)     | Negative (0)     |\n",
        "+-----------------+------------------+\n",
        "| Positive (1)    | True Positives:  {TP_logreg} | False Negatives: {FN_logreg} |\n",
        "+-----------------+------------------+\n",
        "| Negative (0)    | False Positives: {FP_logreg} | True Negatives:  {TN_logreg} |\n",
        "+-----------------+------------------+\n",
        "\"\"\"\n",
        "\n",
        "print(\"Logistic Regression Confusion Matrix:\\n\")\n",
        "print(table_logreg)\n",
        "# calculate the r-squared\n",
        "from sklearn import metrics\n",
        "\n",
        "r_squared = model.score(X_train, y_train)\n",
        "print(r_squared)\n",
        "\n",
        "RMSE = np.sqrt(metrics.mean_squared_error(y_test, y_logreg_pred))\n",
        "print('Mean Absolute Error:', metrics.mean_absolute_error(y_test, y_logreg_pred))\n",
        "print('Mean Squared Error:', metrics.mean_squared_error(y_test, y_logreg_pred))\n",
        "print('Root Mean Squared Error:', RMSE)\n",
        "\n"
      ]
    },
    {
      "cell_type": "markdown",
      "source": [
        "An R square of 0.862 indicates that 86% of the dependent variable can be explained by the independent variables."
      ],
      "metadata": {
        "id": "ZoV2OGdLq_69"
      }
    },
    {
      "cell_type": "markdown",
      "source": [
        "##Feature Importance\n",
        "### A plot of feature importance appears to show that feature 5 (Travel Time) has the biggest impact, with feature 0 (Number of teenagers among the car owner's children who drive) and feature 21 (Urbanicity = Highly urban) having a large positive impact. Feature 6 (car value) appears to have a negative correlation with claims. Occupation of Doctor (feature 29) appear to show negative correlation, with feature 31(Lawyer) having positive correlation."
      ],
      "metadata": {
        "id": "pfAHatwes6zL"
      }
    },
    {
      "cell_type": "code",
      "source": [
        "from matplotlib import pyplot\n",
        "# get importance\n",
        "importance = model.coef_[0]\n",
        "# summarize feature importance\n",
        "for i,v in enumerate(importance):\n",
        " print('Feature: %0d, Score: %.5f' % (i,v))\n",
        "# plot feature importance\n",
        "pyplot.bar([x for x in range(len(importance))], importance)\n",
        "pyplot.show()"
      ],
      "metadata": {
        "colab": {
          "base_uri": "https://localhost:8080/",
          "height": 1000
        },
        "id": "m6IVDY5osD3s",
        "outputId": "ea5b6d26-712b-4055-96b6-5ec2228056ba"
      },
      "execution_count": null,
      "outputs": [
        {
          "output_type": "stream",
          "name": "stdout",
          "text": [
            "Feature: 0, Score: 1.62492\n",
            "Feature: 1, Score: 0.24869\n",
            "Feature: 2, Score: -0.17897\n",
            "Feature: 3, Score: -1.01474\n",
            "Feature: 4, Score: -1.68392\n",
            "Feature: 5, Score: 2.94965\n",
            "Feature: 6, Score: -1.80780\n",
            "Feature: 7, Score: 0.56417\n",
            "Feature: 8, Score: 0.89417\n",
            "Feature: 9, Score: -0.19283\n",
            "Feature: 10, Score: 0.15467\n",
            "Feature: 11, Score: -0.15363\n",
            "Feature: 12, Score: 0.45600\n",
            "Feature: 13, Score: -0.45496\n",
            "Feature: 14, Score: -0.62461\n",
            "Feature: 15, Score: 0.05185\n",
            "Feature: 16, Score: -0.19595\n",
            "Feature: 17, Score: 0.17304\n",
            "Feature: 18, Score: 0.54202\n",
            "Feature: 19, Score: 0.05469\n",
            "Feature: 20, Score: -1.41523\n",
            "Feature: 21, Score: 1.41627\n",
            "Feature: 22, Score: -0.17574\n",
            "Feature: 23, Score: 0.17315\n",
            "Feature: 24, Score: 0.24029\n",
            "Feature: 25, Score: -0.39138\n",
            "Feature: 26, Score: 0.15471\n",
            "Feature: 27, Score: 0.13920\n",
            "Feature: 28, Score: 0.50604\n",
            "Feature: 29, Score: -0.83214\n",
            "Feature: 30, Score: -0.15258\n",
            "Feature: 31, Score: 0.52140\n",
            "Feature: 32, Score: -0.66520\n",
            "Feature: 33, Score: 0.31263\n",
            "Feature: 34, Score: 0.17168\n",
            "Feature: 35, Score: -0.20201\n",
            "Feature: 36, Score: 0.20304\n",
            "Feature: 37, Score: -0.01265\n",
            "Feature: 38, Score: 0.01368\n"
          ]
        },
        {
          "output_type": "display_data",
          "data": {
            "text/plain": [
              "<Figure size 640x480 with 1 Axes>"
            ],
            "image/png": "[encoded data removed]"
          },
          "metadata": {}
        }
      ]
    },
    {
      "cell_type": "markdown",
      "metadata": {
        "id": "bE-XL9DG_aip"
      },
      "source": [
        "#Random Forest\n",
        "## Random forests or random decision forests is an ensemble learning method for classification, regression and other tasks that operates by constructing a multitude of decision trees at training time. For classification tasks, the output of the random forest is the class selected by most trees."
      ]
    },
    {
      "cell_type": "code",
      "execution_count": null,
      "metadata": {
        "colab": {
          "base_uri": "https://localhost:8080/",
          "height": 75
        },
        "id": "aMt-vpD6_aip",
        "outputId": "a5dfd514-364e-4f88-8ff3-770f75ce9f66"
      },
      "outputs": [
        {
          "output_type": "execute_result",
          "data": {
            "text/plain": [
              "RandomForestClassifier()"
            ],
            "text/html": [
              "<style>#sk-container-id-3 {color: black;background-color: white;}#sk-container-id-3 pre{padding: 0;}#sk-container-id-3 div.sk-toggleable {background-color: white;}#sk-container-id-3 label.sk-toggleable__label {cursor: pointer;display: block;width: 100%;margin-bottom: 0;padding: 0.3em;box-sizing: border-box;text-align: center;}#sk-container-id-3 label.sk-toggleable__label-arrow:before {content: \"▸\";float: left;margin-right: 0.25em;color: #696969;}#sk-container-id-3 label.sk-toggleable__label-arrow:hover:before {color: black;}#sk-container-id-3 div.sk-estimator:hover label.sk-toggleable__label-arrow:before {color: black;}#sk-container-id-3 div.sk-toggleable__content {max-height: 0;max-width: 0;overflow: hidden;text-align: left;background-color: #f0f8ff;}#sk-container-id-3 div.sk-toggleable__content pre {margin: 0.2em;color: black;border-radius: 0.25em;background-color: #f0f8ff;}#sk-container-id-3 input.sk-toggleable__control:checked~div.sk-toggleable__content {max-height: 200px;max-width: 100%;overflow: auto;}#sk-container-id-3 input.sk-toggleable__control:checked~label.sk-toggleable__label-arrow:before {content: \"▾\";}#sk-container-id-3 div.sk-estimator input.sk-toggleable__control:checked~label.sk-toggleable__label {background-color: #d4ebff;}#sk-container-id-3 div.sk-label input.sk-toggleable__control:checked~label.sk-toggleable__label {background-color: #d4ebff;}#sk-container-id-3 input.sk-hidden--visually {border: 0;clip: rect(1px 1px 1px 1px);clip: rect(1px, 1px, 1px, 1px);height: 1px;margin: -1px;overflow: hidden;padding: 0;position: absolute;width: 1px;}#sk-container-id-3 div.sk-estimator {font-family: monospace;background-color: #f0f8ff;border: 1px dotted black;border-radius: 0.25em;box-sizing: border-box;margin-bottom: 0.5em;}#sk-container-id-3 div.sk-estimator:hover {background-color: #d4ebff;}#sk-container-id-3 div.sk-parallel-item::after {content: \"\";width: 100%;border-bottom: 1px solid gray;flex-grow: 1;}#sk-container-id-3 div.sk-label:hover label.sk-toggleable__label {background-color: #d4ebff;}#sk-container-id-3 div.sk-serial::before {content: \"\";position: absolute;border-left: 1px solid gray;box-sizing: border-box;top: 0;bottom: 0;left: 50%;z-index: 0;}#sk-container-id-3 div.sk-serial {display: flex;flex-direction: column;align-items: center;background-color: white;padding-right: 0.2em;padding-left: 0.2em;position: relative;}#sk-container-id-3 div.sk-item {position: relative;z-index: 1;}#sk-container-id-3 div.sk-parallel {display: flex;align-items: stretch;justify-content: center;background-color: white;position: relative;}#sk-container-id-3 div.sk-item::before, #sk-container-id-3 div.sk-parallel-item::before {content: \"\";position: absolute;border-left: 1px solid gray;box-sizing: border-box;top: 0;bottom: 0;left: 50%;z-index: -1;}#sk-container-id-3 div.sk-parallel-item {display: flex;flex-direction: column;z-index: 1;position: relative;background-color: white;}#sk-container-id-3 div.sk-parallel-item:first-child::after {align-self: flex-end;width: 50%;}#sk-container-id-3 div.sk-parallel-item:last-child::after {align-self: flex-start;width: 50%;}#sk-container-id-3 div.sk-parallel-item:only-child::after {width: 0;}#sk-container-id-3 div.sk-dashed-wrapped {border: 1px dashed gray;margin: 0 0.4em 0.5em 0.4em;box-sizing: border-box;padding-bottom: 0.4em;background-color: white;}#sk-container-id-3 div.sk-label label {font-family: monospace;font-weight: bold;display: inline-block;line-height: 1.2em;}#sk-container-id-3 div.sk-label-container {text-align: center;}#sk-container-id-3 div.sk-container {/* jupyter's `normalize.less` sets `[hidden] { display: none; }` but bootstrap.min.css set `[hidden] { display: none !important; }` so we also need the `!important` here to be able to override the default hidden behavior on the sphinx rendered scikit-learn.org. See: https://github.com/scikit-learn/scikit-learn/issues/21755 */display: inline-block !important;position: relative;}#sk-container-id-3 div.sk-text-repr-fallback {display: none;}</style><div id=\"sk-container-id-3\" class=\"sk-top-container\"><div class=\"sk-text-repr-fallback\"><pre>RandomForestClassifier()</pre><b>In a Jupyter environment, please rerun this cell to show the HTML representation or trust the notebook. <br />On GitHub, the HTML representation is unable to render, please try loading this page with nbviewer.org.</b></div><div class=\"sk-container\" hidden><div class=\"sk-item\"><div class=\"sk-estimator sk-toggleable\"><input class=\"sk-toggleable__control sk-hidden--visually\" id=\"sk-estimator-id-3\" type=\"checkbox\" checked><label for=\"sk-estimator-id-3\" class=\"sk-toggleable__label sk-toggleable__label-arrow\">RandomForestClassifier</label><div class=\"sk-toggleable__content\"><pre>RandomForestClassifier()</pre></div></div></div></div></div>"
            ]
          },
          "metadata": {},
          "execution_count": 45
        }
      ],
      "source": [
        "from sklearn.ensemble import RandomForestClassifier\n",
        "\n",
        "model = RandomForestClassifier(n_estimators=100) # create an instance of LinearRegression class\n",
        "model.fit(X_train, y_train)"
      ]
    },
    {
      "cell_type": "code",
      "execution_count": null,
      "metadata": {
        "id": "v-ayV8PZ_aip"
      },
      "outputs": [],
      "source": [
        "y_pred = model.predict(X_test)"
      ]
    },
    {
      "cell_type": "code",
      "execution_count": null,
      "metadata": {
        "colab": {
          "base_uri": "https://localhost:8080/"
        },
        "id": "wZ8hswKX_aip",
        "outputId": "10ff33e3-4829-4474-8329-80be788a2529"
      },
      "outputs": [
        {
          "output_type": "stream",
          "name": "stdout",
          "text": [
            "1.0\n",
            "Mean Absolute Error: 0.22751046025104602\n",
            "Mean Squared Error: 0.22751046025104602\n",
            "Root Mean Squared Error: 0.4769805659049916\n"
          ]
        }
      ],
      "source": [
        "# calculate the r-squared\n",
        "from sklearn import metrics\n",
        "\n",
        "r_squared = model.score(X_train, y_train)\n",
        "print(r_squared)\n",
        "\n",
        "RMSE = np.sqrt(metrics.mean_squared_error(y_test, y_pred))\n",
        "print('Mean Absolute Error:', metrics.mean_absolute_error(y_test, y_pred))\n",
        "print('Mean Squared Error:', metrics.mean_squared_error(y_test, y_pred))\n",
        "print('Root Mean Squared Error:', RMSE)\n"
      ]
    },
    {
      "cell_type": "markdown",
      "metadata": {
        "id": "RVTU1bW9_aip"
      },
      "source": [
        "A higher R squared and lower mean absolute error indicates this model outperforms the logistic regression model.\n"
      ]
    },
    {
      "cell_type": "markdown",
      "source": [
        "##Feature Importance\n",
        "### Travel time again appears to be the most important feature in this model."
      ],
      "metadata": {
        "id": "evDzDAW0xYAG"
      }
    },
    {
      "cell_type": "code",
      "source": [
        "feat_importances = pd.Series(model.feature_importances_, index=df.columns)\n",
        "feat_importances.nlargest(10).plot(kind='barh')"
      ],
      "metadata": {
        "colab": {
          "base_uri": "https://localhost:8080/",
          "height": 447
        },
        "id": "jT8RAImAvt15",
        "outputId": "c7c3d5a0-d8e8-4359-ac09-e9ca40ac58dc"
      },
      "execution_count": null,
      "outputs": [
        {
          "output_type": "execute_result",
          "data": {
            "text/plain": [
              "<Axes: >"
            ]
          },
          "metadata": {},
          "execution_count": 54
        },
        {
          "output_type": "display_data",
          "data": {
            "text/plain": [
              "<Figure size 640x480 with 1 Axes>"
            ],
            "image/png": "[encoded data removed]"
          },
          "metadata": {}
        }
      ]
    },
    {
      "cell_type": "markdown",
      "metadata": {
        "id": "TE_TzFXR_aip"
      },
      "source": [
        "## Tensorflow model using 3 layers with Adam optimizer"
      ]
    },
    {
      "cell_type": "code",
      "execution_count": null,
      "metadata": {
        "id": "3RplLkN3_aip"
      },
      "outputs": [],
      "source": [
        "import tensorflow as tf"
      ]
    },
    {
      "cell_type": "code",
      "execution_count": null,
      "metadata": {
        "colab": {
          "base_uri": "https://localhost:8080/"
        },
        "id": "eTUsni8n_aiq",
        "outputId": "c7b3d93b-d626-46ec-8256-2a718f0eeb6e"
      },
      "outputs": [
        {
          "output_type": "stream",
          "name": "stdout",
          "text": [
            "Epoch 1/25\n",
            "263/263 [==============================] - 2s 3ms/step - loss: 0.3718 - mae: 0.3718\n",
            "Epoch 2/25\n",
            "263/263 [==============================] - 1s 3ms/step - loss: 0.3444 - mae: 0.3444\n",
            "Epoch 3/25\n",
            "263/263 [==============================] - 1s 3ms/step - loss: 0.3394 - mae: 0.3394\n",
            "Epoch 4/25\n",
            "263/263 [==============================] - 1s 3ms/step - loss: 0.3372 - mae: 0.3372\n",
            "Epoch 5/25\n",
            "263/263 [==============================] - 1s 3ms/step - loss: 0.3323 - mae: 0.3323\n",
            "Epoch 6/25\n",
            "263/263 [==============================] - 1s 2ms/step - loss: 0.3308 - mae: 0.3308\n",
            "Epoch 7/25\n",
            "263/263 [==============================] - 1s 2ms/step - loss: 0.3310 - mae: 0.3310\n",
            "Epoch 8/25\n",
            "263/263 [==============================] - 1s 2ms/step - loss: 0.3296 - mae: 0.3296\n",
            "Epoch 9/25\n",
            "263/263 [==============================] - 1s 2ms/step - loss: 0.3304 - mae: 0.3304\n",
            "Epoch 10/25\n",
            "263/263 [==============================] - 1s 2ms/step - loss: 0.3278 - mae: 0.3278\n",
            "Epoch 11/25\n",
            "263/263 [==============================] - 0s 2ms/step - loss: 0.3283 - mae: 0.3283\n",
            "Epoch 12/25\n",
            "263/263 [==============================] - 1s 2ms/step - loss: 0.3270 - mae: 0.3270\n",
            "Epoch 13/25\n",
            "263/263 [==============================] - 1s 2ms/step - loss: 0.3259 - mae: 0.3259\n",
            "Epoch 14/25\n",
            "263/263 [==============================] - 1s 2ms/step - loss: 0.3263 - mae: 0.3263\n",
            "Epoch 15/25\n",
            "263/263 [==============================] - 1s 2ms/step - loss: 0.3258 - mae: 0.3258\n",
            "Epoch 16/25\n",
            "263/263 [==============================] - 1s 2ms/step - loss: 0.3253 - mae: 0.3253\n",
            "Epoch 17/25\n",
            "263/263 [==============================] - 1s 2ms/step - loss: 0.3261 - mae: 0.3261\n",
            "Epoch 18/25\n",
            "263/263 [==============================] - 1s 2ms/step - loss: 0.3243 - mae: 0.3243\n",
            "Epoch 19/25\n",
            "263/263 [==============================] - 0s 2ms/step - loss: 0.3242 - mae: 0.3242\n",
            "Epoch 20/25\n",
            "263/263 [==============================] - 1s 2ms/step - loss: 0.3244 - mae: 0.3244\n",
            "Epoch 21/25\n",
            "263/263 [==============================] - 1s 2ms/step - loss: 0.3254 - mae: 0.3254\n",
            "Epoch 22/25\n",
            "263/263 [==============================] - 1s 2ms/step - loss: 0.3235 - mae: 0.3235\n",
            "Epoch 23/25\n",
            "263/263 [==============================] - 1s 2ms/step - loss: 0.3227 - mae: 0.3227\n",
            "Epoch 24/25\n",
            "263/263 [==============================] - 1s 2ms/step - loss: 0.3237 - mae: 0.3237\n",
            "Epoch 25/25\n",
            "263/263 [==============================] - 1s 3ms/step - loss: 0.3225 - mae: 0.3225\n"
          ]
        },
        {
          "output_type": "execute_result",
          "data": {
            "text/plain": [
              "<keras.src.callbacks.History at 0x7cb575d2d3c0>"
            ]
          },
          "metadata": {},
          "execution_count": 40
        }
      ],
      "source": [
        "# Set random seed\n",
        "tf.random.set_seed(42)\n",
        "\n",
        "# Create a model using the Sequential API\n",
        "model = tf.keras.Sequential([\n",
        "  tf.keras.layers.Dense(100),\n",
        "  tf.keras.layers.Dense(10),\n",
        "  tf.keras.layers.Dense(1) # add another layerlayer\n",
        "])\n",
        "\n",
        "# Compile the model\n",
        "model.compile(loss=tf.keras.losses.mae, # mae is short for mean absolute error\n",
        "              optimizer=tf.keras.optimizers.Adam(), # Adam is alternate to SGD\n",
        "              metrics=[\"mae\"])\n",
        "\n",
        "# Fit the model\n",
        "# model.fit(X, y, epochs=5) # this will break with TensorFlow 2.7.0+\n",
        "#model.fit(tf.expand_dims(X, axis=-1), y, epochs=100)\n",
        "model.fit(X_train, y_train, epochs=25)"
      ]
    },
    {
      "cell_type": "code",
      "execution_count": null,
      "metadata": {
        "id": "qNv_LU9-_aiq",
        "outputId": "9edf0f67-432e-435c-dbd3-6cc2f2b3474b"
      },
      "outputs": [
        {
          "name": "stdout",
          "output_type": "stream",
          "text": [
            "60/60 [==============================] - 0s 1ms/step - loss: 0.2786 - mae: 0.2786\n"
          ]
        },
        {
          "data": {
            "text/plain": [
              "[0.27856215834617615, 0.27856215834617615]"
            ]
          },
          "execution_count": 25,
          "metadata": {},
          "output_type": "execute_result"
        }
      ],
      "source": [
        "model.evaluate(X_test,y_test)"
      ]
    },
    {
      "cell_type": "markdown",
      "metadata": {
        "id": "uO66pVKF_aiq"
      },
      "source": [
        "A mae of 0.2786 indicates it is performing less well than the random forest model and would probably benefit from a larger training dataset."
      ]
    }
  ],
  "metadata": {
    "colab": {
      "provenance": [],
      "include_colab_link": true
    },
    "kernelspec": {
      "display_name": "Python 3 (ipykernel)",
      "language": "python",
      "name": "python3"
    },
    "language_info": {
      "codemirror_mode": {
        "name": "ipython",
        "version": 3
      },
      "file_extension": ".py",
      "mimetype": "text/x-python",
      "name": "python",
      "nbconvert_exporter": "python",
      "pygments_lexer": "ipython3",
      "version": "3.10.9"
    }
  },
  "nbformat": 4,
  "nbformat_minor": 0
}